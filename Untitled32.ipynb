{
  "nbformat": 4,
  "nbformat_minor": 0,
  "metadata": {
    "colab": {
      "provenance": [],
      "authorship_tag": "ABX9TyNBn0spUI/IRJwpufRTcEoE",
      "include_colab_link": true
    },
    "kernelspec": {
      "name": "python3",
      "display_name": "Python 3"
    },
    "language_info": {
      "name": "python"
    }
  },
  "cells": [
    {
      "cell_type": "markdown",
      "metadata": {
        "id": "view-in-github",
        "colab_type": "text"
      },
      "source": [
        "<a href=\"https://colab.research.google.com/github/rahmosthated/renaming-flattened-columns/blob/main/Untitled32.ipynb\" target=\"_parent\"><img src=\"https://colab.research.google.com/assets/colab-badge.svg\" alt=\"Open In Colab\"/></a>"
      ]
    },
    {
      "cell_type": "code",
      "execution_count": null,
      "metadata": {
        "id": "DkHLBLtAbMVf"
      },
      "outputs": [],
      "source": [
        "import pandas as pd  # Import pandas for working with tabular data\n",
        "\n",
        "# --------------------------------------------\n",
        "# Step 1: Create a sample DataFrame with MULTI-LEVEL column names\n",
        "# This could happen after using pivot_table, groupby with multiple aggregations, etc.\n",
        "# Each column has two \"levels\" in its name: (Metric, Year)\n",
        "# --------------------------------------------\n",
        "df = pd.DataFrame({\n",
        "    ('Sales', '2023'): [100, 200],\n",
        "    ('Sales', '2024'): [150, 250],\n",
        "    ('Profit', '2023'): [30, 70],\n",
        "    ('Profit', '2024'): [50, 90]\n",
        "})\n",
        "\n",
        "# By default, pandas stores these as MultiIndex column names:\n",
        "# Index([('Sales', '2023'), ('Sales', '2024'), ('Profit', '2023'), ('Profit', '2024')])\n",
        "\n",
        "# --------------------------------------------\n",
        "# Step 2: Flatten the multi-level column names into single strings\n",
        "# '_'.join(map(str, col)) joins each part of the tuple with an underscore\n",
        "# e.g., ('Sales', '2023') becomes \"Sales_2023\"\n",
        "# --------------------------------------------\n",
        "df.columns = ['_'.join(map(str, col)) for col in df.columns]\n",
        "\n",
        "# Now df.columns looks like: ['Sales_2023', 'Sales_2024', 'Profit_2023', 'Profit_2024']\n",
        "\n",
        "# --------------------------------------------\n",
        "# Step 3: Rename columns to something cleaner or more descriptive\n",
        "# Here, we make the names more explicit by adding \"Year\" before the year number\n",
        "# This step is optional but improves readability and prevents confusion\n",
        "# --------------------------------------------\n",
        "df.rename(columns={\n",
        "    'Sales_2023': 'Sales_Year2023',\n",
        "    'Sales_2024': 'Sales_Year2024',\n",
        "    'Profit_2023': 'Profit_Year2023',\n",
        "    'Profit_2024': 'Profit_Year2024'\n",
        "}, inplace=True)\n",
        "\n",
        "# --------------------------------------------\n",
        "# Step 4: Print the final DataFrame to see the result\n",
        "# --------------------------------------------\n",
        "print(df)\n"
      ]
    }
  ]
}