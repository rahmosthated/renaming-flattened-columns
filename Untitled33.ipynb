{
  "nbformat": 4,
  "nbformat_minor": 0,
  "metadata": {
    "colab": {
      "provenance": [],
      "authorship_tag": "ABX9TyPcnne2Fqs/+mI8YmW7Cem6",
      "include_colab_link": true
    },
    "kernelspec": {
      "name": "python3",
      "display_name": "Python 3"
    },
    "language_info": {
      "name": "python"
    }
  },
  "cells": [
    {
      "cell_type": "markdown",
      "metadata": {
        "id": "view-in-github",
        "colab_type": "text"
      },
      "source": [
        "<a href=\"https://colab.research.google.com/github/rahmosthated/renaming-flattened-columns/blob/main/Untitled33.ipynb\" target=\"_parent\"><img src=\"https://colab.research.google.com/assets/colab-badge.svg\" alt=\"Open In Colab\"/></a>"
      ]
    },
    {
      "cell_type": "code",
      "execution_count": null,
      "metadata": {
        "id": "bYVEgQaGcpRJ"
      },
      "outputs": [],
      "source": [
        "import pandas as pd  # Import pandas for data handling\n",
        "\n",
        "# Step 1: Create a sample DataFrame with a nested column\n",
        "# The 'Details' column contains dictionaries with more info\n",
        "df = pd.DataFrame({\n",
        "    'OrderID': [1, 2, 3],\n",
        "    'Customer': ['Alice', 'Bob', 'Charlie'],\n",
        "    'Details': [\n",
        "        {'Item': 'Shoes', 'Price': 120},\n",
        "        {'Item': 'Shirt', 'Price': 45},\n",
        "        {'Item': 'Hat', 'Price': 80}\n",
        "    ]\n",
        "})\n",
        "\n",
        "print(\"Original DataFrame:\")\n",
        "print(df)\n",
        "\n",
        "# Step 2: Flatten the 'Details' column into its own DataFrame (subframe)\n",
        "# pd.json_normalize turns the dictionaries into separate columns\n",
        "subframe = pd.json_normalize(df['Details'])\n",
        "\n",
        "print(\"\\nFlattened subframe (from 'Details'):\")\n",
        "print(subframe)\n",
        "\n",
        "# Step 3: Concatenate the subframe to the original DataFrame (side by side)\n",
        "# axis=1 means horizontal concatenation\n",
        "df = pd.concat([df, subframe], axis=1)\n",
        "\n",
        "# Step 4: Drop the original 'Details' column (no longer needed)\n",
        "df = df.drop(columns=['Details'])\n",
        "\n",
        "print(\"\\nFinal flattened DataFrame:\")\n",
        "print(df)\n"
      ]
    }
  ]
}